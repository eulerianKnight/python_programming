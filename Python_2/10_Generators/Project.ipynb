{
 "cells": [
  {
   "cell_type": "markdown",
   "metadata": {},
   "source": [
    "# Project for Generators\n",
    "\n",
    "- Create a lazy iterator that will return a named tuple of the data in each row. \n",
    "- The data types should be appropriate - i.e. if the column is a date, you should be storing dates in the named tuple, if the field is an integer, then it should be stored as an integer, etc.\n",
    "- Calculate the number of violations by car make."
   ]
  },
  {
   "cell_type": "code",
   "execution_count": 1,
   "metadata": {},
   "outputs": [],
   "source": [
    "file_name = \"nyc_parking_tickets_extract.csv\""
   ]
  },
  {
   "cell_type": "code",
   "execution_count": 2,
   "metadata": {},
   "outputs": [
    {
     "name": "stdout",
     "output_type": "stream",
     "text": [
      "Summons Number,Plate ID,Registration State,Plate Type,Issue Date,Violation Code,Vehicle Body Type,Vehicle Make,Violation Description\n",
      "\n",
      "4006478550,VAD7274,VA,PAS,10/5/2016,5,4D,BMW,BUS LANE VIOLATION\n",
      "\n",
      "4006462396,22834JK,NY,COM,9/30/2016,5,VAN,CHEVR,BUS LANE VIOLATION\n",
      "\n",
      "4007117810,21791MG,NY,COM,4/10/2017,5,VAN,DODGE,BUS LANE VIOLATION\n",
      "\n",
      "4006265037,FZX9232,NY,PAS,8/23/2016,5,SUBN,FORD,BUS LANE VIOLATION\n",
      "\n",
      "4006535600,N203399C,NY,OMT,10/19/2016,5,SUBN,FORD,BUS LANE VIOLATION\n",
      "\n",
      "4007156700,92163MG,NY,COM,4/13/2017,5,VAN,FRUEH,BUS LANE VIOLATION\n",
      "\n",
      "4006687989,MIQ600,SC,PAS,11/21/2016,5,VN,HONDA,BUS LANE VIOLATION\n",
      "\n",
      "4006943052,2AE3984,MD,PAS,2/1/2017,5,SW,LINCO,BUS LANE VIOLATION\n",
      "\n",
      "4007306795,HLG4926,NY,PAS,5/30/2017,5,SUBN,TOYOT,BUS LANE VIOLATION\n",
      "\n"
     ]
    }
   ],
   "source": [
    "with open(file_name) as f:\n",
    "    for _ in range(10):\n",
    "        print(next(f))"
   ]
  },
  {
   "cell_type": "code",
   "execution_count": 4,
   "metadata": {},
   "outputs": [],
   "source": [
    "with open(file_name) as f:\n",
    "    column_headers = next(f).strip('\\n').split(',')\n",
    "    sample_data = next(f).strip('\\n').split(',')"
   ]
  },
  {
   "cell_type": "code",
   "execution_count": 5,
   "metadata": {},
   "outputs": [
    {
     "data": {
      "text/plain": [
       "['Summons Number',\n",
       " 'Plate ID',\n",
       " 'Registration State',\n",
       " 'Plate Type',\n",
       " 'Issue Date',\n",
       " 'Violation Code',\n",
       " 'Vehicle Body Type',\n",
       " 'Vehicle Make',\n",
       " 'Violation Description']"
      ]
     },
     "execution_count": 5,
     "metadata": {},
     "output_type": "execute_result"
    }
   ],
   "source": [
    "column_headers"
   ]
  },
  {
   "cell_type": "code",
   "execution_count": 6,
   "metadata": {},
   "outputs": [
    {
     "data": {
      "text/plain": [
       "['4006478550',\n",
       " 'VAD7274',\n",
       " 'VA',\n",
       " 'PAS',\n",
       " '10/5/2016',\n",
       " '5',\n",
       " '4D',\n",
       " 'BMW',\n",
       " 'BUS LANE VIOLATION']"
      ]
     },
     "execution_count": 6,
     "metadata": {},
     "output_type": "execute_result"
    }
   ],
   "source": [
    "sample_data"
   ]
  },
  {
   "cell_type": "code",
   "execution_count": 7,
   "metadata": {},
   "outputs": [],
   "source": [
    "column_names = [header.replace(' ', '_').lower() \n",
    "                for header in column_headers]"
   ]
  },
  {
   "cell_type": "code",
   "execution_count": 8,
   "metadata": {},
   "outputs": [
    {
     "data": {
      "text/plain": [
       "['summons_number',\n",
       " 'plate_id',\n",
       " 'registration_state',\n",
       " 'plate_type',\n",
       " 'issue_date',\n",
       " 'violation_code',\n",
       " 'vehicle_body_type',\n",
       " 'vehicle_make',\n",
       " 'violation_description']"
      ]
     },
     "execution_count": 8,
     "metadata": {},
     "output_type": "execute_result"
    }
   ],
   "source": [
    "column_names"
   ]
  },
  {
   "cell_type": "code",
   "execution_count": 9,
   "metadata": {},
   "outputs": [
    {
     "data": {
      "text/plain": [
       "[('summons_number', '4006478550'),\n",
       " ('plate_id', 'VAD7274'),\n",
       " ('registration_state', 'VA'),\n",
       " ('plate_type', 'PAS'),\n",
       " ('issue_date', '10/5/2016'),\n",
       " ('violation_code', '5'),\n",
       " ('vehicle_body_type', '4D'),\n",
       " ('vehicle_make', 'BMW'),\n",
       " ('violation_description', 'BUS LANE VIOLATION')]"
      ]
     },
     "execution_count": 9,
     "metadata": {},
     "output_type": "execute_result"
    }
   ],
   "source": [
    "list(zip(column_names, sample_data))"
   ]
  },
  {
   "cell_type": "markdown",
   "metadata": {},
   "source": [
    "### Data Type\n",
    "\n",
    "- 'summons_number': `int`\n",
    "- 'plate_id': `str`\n",
    "- 'registration_state': `str`\n",
    "- 'plate_type': `str`\n",
    "- 'issue_date': `date`\n",
    "- 'violation_code': `int`\n",
    "- 'vehicle_body_type': `str`\n",
    "- 'vehicle_make': `str`\n",
    "- 'violation_description: `str`"
   ]
  },
  {
   "cell_type": "code",
   "execution_count": 10,
   "metadata": {},
   "outputs": [],
   "source": [
    "from collections import namedtuple"
   ]
  },
  {
   "cell_type": "code",
   "execution_count": 11,
   "metadata": {},
   "outputs": [],
   "source": [
    "Ticket = namedtuple('Ticket', column_names)"
   ]
  },
  {
   "cell_type": "code",
   "execution_count": 12,
   "metadata": {},
   "outputs": [
    {
     "data": {
      "text/plain": [
       "True"
      ]
     },
     "execution_count": 12,
     "metadata": {},
     "output_type": "execute_result"
    }
   ],
   "source": [
    "issubclass(Ticket, tuple)"
   ]
  },
  {
   "cell_type": "code",
   "execution_count": 13,
   "metadata": {},
   "outputs": [],
   "source": [
    "with open(file_name) as f:\n",
    "    next(f)\n",
    "    raw_data_row = next(f)"
   ]
  },
  {
   "cell_type": "code",
   "execution_count": 14,
   "metadata": {},
   "outputs": [
    {
     "data": {
      "text/plain": [
       "'4006478550,VAD7274,VA,PAS,10/5/2016,5,4D,BMW,BUS LANE VIOLATION\\n'"
      ]
     },
     "execution_count": 14,
     "metadata": {},
     "output_type": "execute_result"
    }
   ],
   "source": [
    "raw_data_row"
   ]
  },
  {
   "cell_type": "code",
   "execution_count": 15,
   "metadata": {},
   "outputs": [],
   "source": [
    "def read_data():\n",
    "    with open(file_name) as f:\n",
    "        next(f) # Header is removed\n",
    "        yield from f"
   ]
  },
  {
   "cell_type": "code",
   "execution_count": 16,
   "metadata": {},
   "outputs": [],
   "source": [
    "raw_data = read_data()"
   ]
  },
  {
   "cell_type": "code",
   "execution_count": 17,
   "metadata": {},
   "outputs": [
    {
     "data": {
      "text/plain": [
       "<generator object read_data at 0x00000160560ECAC0>"
      ]
     },
     "execution_count": 17,
     "metadata": {},
     "output_type": "execute_result"
    }
   ],
   "source": [
    "raw_data"
   ]
  },
  {
   "cell_type": "code",
   "execution_count": 15,
   "metadata": {},
   "outputs": [
    {
     "name": "stdout",
     "output_type": "stream",
     "text": [
      "4006478550,VAD7274,VA,PAS,10/5/2016,5,4D,BMW,BUS LANE VIOLATION\n",
      "\n",
      "4006462396,22834JK,NY,COM,9/30/2016,5,VAN,CHEVR,BUS LANE VIOLATION\n",
      "\n",
      "4007117810,21791MG,NY,COM,4/10/2017,5,VAN,DODGE,BUS LANE VIOLATION\n",
      "\n",
      "4006265037,FZX9232,NY,PAS,8/23/2016,5,SUBN,FORD,BUS LANE VIOLATION\n",
      "\n",
      "4006535600,N203399C,NY,OMT,10/19/2016,5,SUBN,FORD,BUS LANE VIOLATION\n",
      "\n"
     ]
    }
   ],
   "source": [
    "for _ in range(5):\n",
    "    print(next(raw_data))"
   ]
  },
  {
   "cell_type": "code",
   "execution_count": 19,
   "metadata": {},
   "outputs": [],
   "source": [
    "def parse_int(value, *, default=None):\n",
    "    try:\n",
    "        return int(value)\n",
    "    except ValueError:\n",
    "        return default"
   ]
  },
  {
   "cell_type": "code",
   "execution_count": 20,
   "metadata": {},
   "outputs": [],
   "source": [
    "from datetime import datetime\n",
    "\n",
    "def parse_date(value, *, default=None):\n",
    "    date_format = '%m/%d/%Y'\n",
    "    try:\n",
    "        return datetime.strptime(value, date_format).date()\n",
    "    except ValueError:\n",
    "        return default"
   ]
  },
  {
   "cell_type": "code",
   "execution_count": 21,
   "metadata": {},
   "outputs": [
    {
     "data": {
      "text/plain": [
       "'N/A'"
      ]
     },
     "execution_count": 21,
     "metadata": {},
     "output_type": "execute_result"
    }
   ],
   "source": [
    "parse_int('hello', default='N/A')"
   ]
  },
  {
   "cell_type": "code",
   "execution_count": 21,
   "metadata": {},
   "outputs": [
    {
     "data": {
      "text/plain": [
       "datetime.date(2018, 3, 28)"
      ]
     },
     "execution_count": 21,
     "metadata": {},
     "output_type": "execute_result"
    }
   ],
   "source": [
    "parse_date('3/28/2018')"
   ]
  },
  {
   "cell_type": "code",
   "execution_count": 22,
   "metadata": {},
   "outputs": [
    {
     "data": {
      "text/plain": [
       "'N/A'"
      ]
     },
     "execution_count": 22,
     "metadata": {},
     "output_type": "execute_result"
    }
   ],
   "source": [
    "parse_date('2324234', default='N/A')"
   ]
  },
  {
   "cell_type": "code",
   "execution_count": 23,
   "metadata": {},
   "outputs": [],
   "source": [
    "def parse_string(value, *, default=None):\n",
    "    try:\n",
    "        cleaned = value.strip()\n",
    "        if not cleaned:\n",
    "            return default\n",
    "        else:\n",
    "            return cleaned\n",
    "    except:\n",
    "        return default"
   ]
  },
  {
   "cell_type": "code",
   "execution_count": 24,
   "metadata": {},
   "outputs": [
    {
     "data": {
      "text/plain": [
       "'himanshu'"
      ]
     },
     "execution_count": 24,
     "metadata": {},
     "output_type": "execute_result"
    }
   ],
   "source": [
    "parse_string('    himanshu   ')"
   ]
  },
  {
   "cell_type": "code",
   "execution_count": 26,
   "metadata": {},
   "outputs": [
    {
     "data": {
      "text/plain": [
       "'N/A'"
      ]
     },
     "execution_count": 26,
     "metadata": {},
     "output_type": "execute_result"
    }
   ],
   "source": [
    "parse_string('    ', default='N/A')"
   ]
  },
  {
   "cell_type": "code",
   "execution_count": 27,
   "metadata": {},
   "outputs": [],
   "source": [
    "from functools import partial\n",
    "\n",
    "column_parsers = (partial(parse_int), \n",
    "                  partial(parse_string), \n",
    "                  partial(parse_string, default=''), \n",
    "                  partial(parse_string, default=''), \n",
    "                  partial(parse_date), \n",
    "                  partial(parse_int), \n",
    "                  partial(parse_string, default=''), \n",
    "                  partial(parse_string), \n",
    "                  partial(parse_string, default=''))"
   ]
  },
  {
   "cell_type": "code",
   "execution_count": 28,
   "metadata": {},
   "outputs": [],
   "source": [
    "def parse_row(row):\n",
    "    fields = row.strip('\\n').split(',')\n",
    "    parsed_data = (func(field) for func, field in zip(column_parsers, fields))\n",
    "    return parsed_data"
   ]
  },
  {
   "cell_type": "code",
   "execution_count": 29,
   "metadata": {},
   "outputs": [
    {
     "name": "stdout",
     "output_type": "stream",
     "text": [
      "[4006478550, 'VAD7274', 'VA', 'PAS', datetime.date(2016, 10, 5), 5, '4D', 'BMW', 'BUS LANE VIOLATION']\n",
      "[4006462396, '22834JK', 'NY', 'COM', datetime.date(2016, 9, 30), 5, 'VAN', 'CHEVR', 'BUS LANE VIOLATION']\n",
      "[4007117810, '21791MG', 'NY', 'COM', datetime.date(2017, 4, 10), 5, 'VAN', 'DODGE', 'BUS LANE VIOLATION']\n",
      "[4006265037, 'FZX9232', 'NY', 'PAS', datetime.date(2016, 8, 23), 5, 'SUBN', 'FORD', 'BUS LANE VIOLATION']\n",
      "[4006535600, 'N203399C', 'NY', 'OMT', datetime.date(2016, 10, 19), 5, 'SUBN', 'FORD', 'BUS LANE VIOLATION']\n"
     ]
    }
   ],
   "source": [
    "rows = read_data()\n",
    "for _ in range(5):\n",
    "    row = next(rows)\n",
    "    parsed_data = parse_row(row)\n",
    "    print(list(parsed_data))"
   ]
  },
  {
   "cell_type": "code",
   "execution_count": 40,
   "metadata": {},
   "outputs": [],
   "source": [
    "def parse_row(row, *, default=None):\n",
    "    fields = row.strip('\\n').split(',')\n",
    "    parsed_data = [func(field) for func, field in zip(column_parsers, fields)]\n",
    "    if all(item is not None for item in parsed_data):\n",
    "        return Ticket(*parsed_data)\n",
    "    else:\n",
    "        return default"
   ]
  },
  {
   "cell_type": "code",
   "execution_count": 41,
   "metadata": {},
   "outputs": [
    {
     "name": "stdout",
     "output_type": "stream",
     "text": [
      "Ticket(summons_number=4006478550, plate_id='VAD7274', registration_state='VA', plate_type='PAS', issue_date=datetime.date(2016, 10, 5), violation_code=5, vehicle_body_type='4D', vehicle_make='BMW', violation_description='BUS LANE VIOLATION')\n",
      "Ticket(summons_number=4006462396, plate_id='22834JK', registration_state='NY', plate_type='COM', issue_date=datetime.date(2016, 9, 30), violation_code=5, vehicle_body_type='VAN', vehicle_make='CHEVR', violation_description='BUS LANE VIOLATION')\n",
      "Ticket(summons_number=4007117810, plate_id='21791MG', registration_state='NY', plate_type='COM', issue_date=datetime.date(2017, 4, 10), violation_code=5, vehicle_body_type='VAN', vehicle_make='DODGE', violation_description='BUS LANE VIOLATION')\n",
      "Ticket(summons_number=4006265037, plate_id='FZX9232', registration_state='NY', plate_type='PAS', issue_date=datetime.date(2016, 8, 23), violation_code=5, vehicle_body_type='SUBN', vehicle_make='FORD', violation_description='BUS LANE VIOLATION')\n",
      "Ticket(summons_number=4006535600, plate_id='N203399C', registration_state='NY', plate_type='OMT', issue_date=datetime.date(2016, 10, 19), violation_code=5, vehicle_body_type='SUBN', vehicle_make='FORD', violation_description='BUS LANE VIOLATION')\n"
     ]
    }
   ],
   "source": [
    "rows = read_data()\n",
    "for _ in range(5):\n",
    "    row = next(rows)\n",
    "    parsed_data = parse_row(row)\n",
    "    print(parsed_data)"
   ]
  },
  {
   "cell_type": "code",
   "execution_count": 42,
   "metadata": {},
   "outputs": [
    {
     "name": "stdout",
     "output_type": "stream",
     "text": [
      "[('summons_number', '1413358512'), ('plate_id', '54295PC'), ('registration_state', 'NY'), ('plate_type', 'APP'), ('issue_date', '8/9/2016'), ('violation_code', '19'), ('vehicle_body_type', 'BUS'), ('vehicle_make', ''), ('violation_description', '')]\n",
      "\n",
      "[('summons_number', '1418425369'), ('plate_id', 'JYW5248'), ('registration_state', 'PA'), ('plate_type', 'PAS'), ('issue_date', '3/21/2017'), ('violation_code', '21'), ('vehicle_body_type', 'SDN'), ('vehicle_make', ''), ('violation_description', '')]\n",
      "\n",
      "[('summons_number', '1406925068'), ('plate_id', '19358JU'), ('registration_state', '99'), ('plate_type', 'COM'), ('issue_date', '8/23/2016'), ('violation_code', '46'), ('vehicle_body_type', 'DELV'), ('vehicle_make', ''), ('violation_description', '')]\n",
      "\n",
      "[('summons_number', '8546468965'), ('plate_id', '37489BB'), ('registration_state', 'NY'), ('plate_type', 'OMR'), ('issue_date', '6/12/2017'), ('violation_code', '46'), ('vehicle_body_type', 'BUS'), ('vehicle_make', ''), ('violation_description', '46A-Double Parking (Non-COM)')]\n",
      "\n",
      "[('summons_number', '1406927442'), ('plate_id', 'BLANKPLATE'), ('registration_state', '99'), ('plate_type', '999'), ('issue_date', '8/20/2016'), ('violation_code', '46'), ('vehicle_body_type', 'SDN'), ('vehicle_make', ''), ('violation_description', '')]\n",
      "\n"
     ]
    }
   ],
   "source": [
    "for row in read_data():\n",
    "    parsed_row = parse_row(row)\n",
    "    if parsed_row is None:\n",
    "        print(list(zip(column_names, row.strip('\\n').split(','))), end='\\n\\n')"
   ]
  },
  {
   "cell_type": "code",
   "execution_count": 43,
   "metadata": {},
   "outputs": [],
   "source": [
    "def parsed_data():\n",
    "    for row in read_data():\n",
    "        parsed = parse_row(row)\n",
    "        if parsed:\n",
    "            yield parsed"
   ]
  },
  {
   "cell_type": "code",
   "execution_count": 44,
   "metadata": {},
   "outputs": [],
   "source": [
    "parsed_rows = parsed_data()"
   ]
  },
  {
   "cell_type": "code",
   "execution_count": 45,
   "metadata": {},
   "outputs": [
    {
     "name": "stdout",
     "output_type": "stream",
     "text": [
      "Ticket(summons_number=4006478550, plate_id='VAD7274', registration_state='VA', plate_type='PAS', issue_date=datetime.date(2016, 10, 5), violation_code=5, vehicle_body_type='4D', vehicle_make='BMW', violation_description='BUS LANE VIOLATION')\n",
      "Ticket(summons_number=4006462396, plate_id='22834JK', registration_state='NY', plate_type='COM', issue_date=datetime.date(2016, 9, 30), violation_code=5, vehicle_body_type='VAN', vehicle_make='CHEVR', violation_description='BUS LANE VIOLATION')\n",
      "Ticket(summons_number=4007117810, plate_id='21791MG', registration_state='NY', plate_type='COM', issue_date=datetime.date(2017, 4, 10), violation_code=5, vehicle_body_type='VAN', vehicle_make='DODGE', violation_description='BUS LANE VIOLATION')\n",
      "Ticket(summons_number=4006265037, plate_id='FZX9232', registration_state='NY', plate_type='PAS', issue_date=datetime.date(2016, 8, 23), violation_code=5, vehicle_body_type='SUBN', vehicle_make='FORD', violation_description='BUS LANE VIOLATION')\n",
      "Ticket(summons_number=4006535600, plate_id='N203399C', registration_state='NY', plate_type='OMT', issue_date=datetime.date(2016, 10, 19), violation_code=5, vehicle_body_type='SUBN', vehicle_make='FORD', violation_description='BUS LANE VIOLATION')\n"
     ]
    }
   ],
   "source": [
    "for _ in range(5):\n",
    "    print(next(parsed_rows))"
   ]
  },
  {
   "cell_type": "code",
   "execution_count": 46,
   "metadata": {},
   "outputs": [
    {
     "name": "stdout",
     "output_type": "stream",
     "text": [
      "{'BMW': 34, 'CHEVR': 76, 'DODGE': 45, 'FORD': 104, 'FRUEH': 44, 'HONDA': 106, 'LINCO': 12, 'TOYOT': 112, 'CADIL': 9, 'CHRYS': 12, 'FIR': 1, 'GMC': 35, 'HYUND': 35, 'JAGUA': 3, 'JEEP': 22, 'LEXUS': 26, 'ME/BE': 38, 'MERCU': 4, 'MITSU': 11, 'NISSA': 70, 'HIN': 6, 'NS/OT': 18, 'WORKH': 2, 'ACURA': 12, 'AUDI': 12, 'INTER': 25, 'ISUZU': 10, 'KENWO': 5, 'KIA': 8, 'OLDSM': 1, 'SUBAR': 18, 'VOLVO': 12, 'SATUR': 2, 'SMART': 3, 'INFIN': 13, 'PETER': 1, 'CITRO': 1, 'ROVER': 5, 'BUICK': 5, 'GEO': 1, 'MAZDA': 5, 'PORSC': 3, 'VOLKS': 8, 'YAMAH': 1, 'BSA': 1, 'MINI': 1, 'PONTI': 1, 'SPRI': 1, 'PLYMO': 1, 'SCION': 2, 'UPS': 1, 'FIAT': 1, 'UD': 1, 'UTILI': 1, 'GMCQ': 1, 'SAAB': 2, 'HINO': 2, 'STAR': 1, 'AM/T': 1, 'MI/F': 1}\n"
     ]
    }
   ],
   "source": [
    "makes_counts = {}\n",
    "\n",
    "for data in parsed_data():\n",
    "    if data.vehicle_make in makes_counts:\n",
    "        makes_counts[data.vehicle_make] += 1\n",
    "    else:\n",
    "        makes_counts[data.vehicle_make] = 1\n",
    "\n",
    "print(makes_counts)"
   ]
  },
  {
   "cell_type": "code",
   "execution_count": 47,
   "metadata": {},
   "outputs": [
    {
     "name": "stdout",
     "output_type": "stream",
     "text": [
      "TOYOT 112\n",
      "HONDA 106\n",
      "FORD 104\n",
      "CHEVR 76\n",
      "NISSA 70\n",
      "DODGE 45\n",
      "FRUEH 44\n",
      "ME/BE 38\n",
      "GMC 35\n",
      "HYUND 35\n",
      "BMW 34\n",
      "LEXUS 26\n",
      "INTER 25\n",
      "JEEP 22\n",
      "NS/OT 18\n",
      "SUBAR 18\n",
      "INFIN 13\n",
      "LINCO 12\n",
      "CHRYS 12\n",
      "ACURA 12\n",
      "AUDI 12\n",
      "VOLVO 12\n",
      "MITSU 11\n",
      "ISUZU 10\n",
      "CADIL 9\n",
      "KIA 8\n",
      "VOLKS 8\n",
      "HIN 6\n",
      "KENWO 5\n",
      "ROVER 5\n",
      "BUICK 5\n",
      "MAZDA 5\n",
      "MERCU 4\n",
      "JAGUA 3\n",
      "SMART 3\n",
      "PORSC 3\n",
      "WORKH 2\n",
      "SATUR 2\n",
      "SCION 2\n",
      "SAAB 2\n",
      "HINO 2\n",
      "FIR 1\n",
      "OLDSM 1\n",
      "PETER 1\n",
      "CITRO 1\n",
      "GEO 1\n",
      "YAMAH 1\n",
      "BSA 1\n",
      "MINI 1\n",
      "PONTI 1\n",
      "SPRI 1\n",
      "PLYMO 1\n",
      "UPS 1\n",
      "FIAT 1\n",
      "UD 1\n",
      "UTILI 1\n",
      "GMCQ 1\n",
      "STAR 1\n",
      "AM/T 1\n",
      "MI/F 1\n"
     ]
    }
   ],
   "source": [
    "for make, cnt in sorted(makes_counts.items(), key=lambda t: t[1], reverse=True):\n",
    "    print(make, cnt)"
   ]
  },
  {
   "cell_type": "code",
   "execution_count": 48,
   "metadata": {},
   "outputs": [
    {
     "name": "stdout",
     "output_type": "stream",
     "text": [
      "TOYOT 112\n",
      "HONDA 106\n",
      "FORD 104\n",
      "CHEVR 76\n",
      "NISSA 70\n",
      "DODGE 45\n",
      "FRUEH 44\n",
      "ME/BE 38\n",
      "GMC 35\n",
      "HYUND 35\n",
      "BMW 34\n",
      "LEXUS 26\n",
      "INTER 25\n",
      "JEEP 22\n",
      "NS/OT 18\n",
      "SUBAR 18\n",
      "INFIN 13\n",
      "LINCO 12\n",
      "CHRYS 12\n",
      "ACURA 12\n",
      "AUDI 12\n",
      "VOLVO 12\n",
      "MITSU 11\n",
      "ISUZU 10\n",
      "CADIL 9\n",
      "KIA 8\n",
      "VOLKS 8\n",
      "HIN 6\n",
      "KENWO 5\n",
      "ROVER 5\n",
      "BUICK 5\n",
      "MAZDA 5\n",
      "MERCU 4\n",
      "JAGUA 3\n",
      "SMART 3\n",
      "PORSC 3\n",
      "WORKH 2\n",
      "SATUR 2\n",
      "SCION 2\n",
      "SAAB 2\n",
      "HINO 2\n",
      "FIR 1\n",
      "OLDSM 1\n",
      "PETER 1\n",
      "CITRO 1\n",
      "GEO 1\n",
      "YAMAH 1\n",
      "BSA 1\n",
      "MINI 1\n",
      "PONTI 1\n",
      "SPRI 1\n",
      "PLYMO 1\n",
      "UPS 1\n",
      "FIAT 1\n",
      "UD 1\n",
      "UTILI 1\n",
      "GMCQ 1\n",
      "STAR 1\n",
      "AM/T 1\n",
      "MI/F 1\n"
     ]
    }
   ],
   "source": [
    "from collections import defaultdict\n",
    "\n",
    "makes_counts = defaultdict(int)\n",
    "\n",
    "for data in parsed_data():\n",
    "    makes_counts[data.vehicle_make] += 1\n",
    "\n",
    "for make, cnt in sorted(makes_counts.items(), key=lambda t: t[1], reverse=True):\n",
    "    print(make, cnt)"
   ]
  },
  {
   "cell_type": "code",
   "execution_count": 49,
   "metadata": {},
   "outputs": [],
   "source": [
    "def violation_count_by_make():\n",
    "    makes_counts = defaultdict(int)\n",
    "    for data in parsed_data():\n",
    "        makes_counts[data.vehicle_make] += 1\n",
    "\n",
    "    return sorted(makes_counts.items(), key=lambda t: t[1], reverse=True)"
   ]
  },
  {
   "cell_type": "code",
   "execution_count": 50,
   "metadata": {},
   "outputs": [
    {
     "data": {
      "text/plain": [
       "[('TOYOT', 112),\n",
       " ('HONDA', 106),\n",
       " ('FORD', 104),\n",
       " ('CHEVR', 76),\n",
       " ('NISSA', 70),\n",
       " ('DODGE', 45),\n",
       " ('FRUEH', 44),\n",
       " ('ME/BE', 38),\n",
       " ('GMC', 35),\n",
       " ('HYUND', 35),\n",
       " ('BMW', 34),\n",
       " ('LEXUS', 26),\n",
       " ('INTER', 25),\n",
       " ('JEEP', 22),\n",
       " ('NS/OT', 18),\n",
       " ('SUBAR', 18),\n",
       " ('INFIN', 13),\n",
       " ('LINCO', 12),\n",
       " ('CHRYS', 12),\n",
       " ('ACURA', 12),\n",
       " ('AUDI', 12),\n",
       " ('VOLVO', 12),\n",
       " ('MITSU', 11),\n",
       " ('ISUZU', 10),\n",
       " ('CADIL', 9),\n",
       " ('KIA', 8),\n",
       " ('VOLKS', 8),\n",
       " ('HIN', 6),\n",
       " ('KENWO', 5),\n",
       " ('ROVER', 5),\n",
       " ('BUICK', 5),\n",
       " ('MAZDA', 5),\n",
       " ('MERCU', 4),\n",
       " ('JAGUA', 3),\n",
       " ('SMART', 3),\n",
       " ('PORSC', 3),\n",
       " ('WORKH', 2),\n",
       " ('SATUR', 2),\n",
       " ('SCION', 2),\n",
       " ('SAAB', 2),\n",
       " ('HINO', 2),\n",
       " ('FIR', 1),\n",
       " ('OLDSM', 1),\n",
       " ('PETER', 1),\n",
       " ('CITRO', 1),\n",
       " ('GEO', 1),\n",
       " ('YAMAH', 1),\n",
       " ('BSA', 1),\n",
       " ('MINI', 1),\n",
       " ('PONTI', 1),\n",
       " ('SPRI', 1),\n",
       " ('PLYMO', 1),\n",
       " ('UPS', 1),\n",
       " ('FIAT', 1),\n",
       " ('UD', 1),\n",
       " ('UTILI', 1),\n",
       " ('GMCQ', 1),\n",
       " ('STAR', 1),\n",
       " ('AM/T', 1),\n",
       " ('MI/F', 1)]"
      ]
     },
     "execution_count": 50,
     "metadata": {},
     "output_type": "execute_result"
    }
   ],
   "source": [
    "violation_count_by_make()"
   ]
  },
  {
   "cell_type": "code",
   "execution_count": null,
   "metadata": {},
   "outputs": [],
   "source": []
  }
 ],
 "metadata": {
  "kernelspec": {
   "display_name": "Python 3",
   "language": "python",
   "name": "python3"
  },
  "language_info": {
   "codemirror_mode": {
    "name": "ipython",
    "version": 3
   },
   "file_extension": ".py",
   "mimetype": "text/x-python",
   "name": "python",
   "nbconvert_exporter": "python",
   "pygments_lexer": "ipython3",
   "version": "3.12.1"
  }
 },
 "nbformat": 4,
 "nbformat_minor": 2
}
