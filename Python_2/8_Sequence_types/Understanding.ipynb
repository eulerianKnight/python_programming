{
 "cells": [
  {
   "cell_type": "markdown",
   "metadata": {},
   "source": [
    "# Sequence Types\n",
    "\n",
    "- Sequences have a positional ordering.\n",
    "- Python `Lists` have a concept of positional order, but `sets` do not. A `List` is a sequence type. `Set` is not.\n",
    "- Built-in Sequence Types: **Mutable**: `Lists`, `ByteArrays`. **Immutable**: `strings`, `tuples`, `range`, `bytes`\n",
    "- Additional Standard Types: **Collections**: `namedtuple`, `deque`. **array**: `array`\n",
    "- Homogeneous: Each element is of same type. E.g. `Strings`\n",
    "- Heterogeneous: Each element may be of different type. E.g. `List`\n",
    "- Homogeneous sequence types are usually more efficient (storage wise at least)\n",
    "- Iterable: It is a *container* type of object and we can list out the elements in that object one by one.\n",
    "- Any Sequence type is iterable. But an iterable is not necessarily a sequence type. Iterables are more general. E.g. `Sets` are iterable but not sequence.\n",
    "\n",
    "### Standard Sequence Methods\n",
    "\n",
    "s is a sequence, x is an elelment of sequence. n is an integer. \n",
    "\n",
    "- x in s\n",
    "- x not in s\n",
    "- s1 + s2 # Concatenation\n",
    "- s * n (or n * s) # repitition\n",
    "- len(s)\n",
    "- min(s), max(s)\n",
    "- s.index(x) # index of first occurrence of x in s\n",
    "- s.index(x, i) # index of first occurrence of x in s at or after index i\n",
    "- s.index(x, i, j) # index of first occurrence of x in s at or after index j\n",
    "- s[i] # element at index i\n",
    "- s[i:j] # slice from index i, to (but not including) j\n",
    "- s[i:j:k] # extended slice from index i, to (but not including) j. in steps of k.\n",
    "\n",
    "- `range` objects are more restrictive. no concatenation/repitition"
   ]
  },
  {
   "cell_type": "code",
   "execution_count": 4,
   "metadata": {},
   "outputs": [
    {
     "data": {
      "text/plain": [
       "(1, 2, 't')"
      ]
     },
     "execution_count": 4,
     "metadata": {},
     "output_type": "execute_result"
    }
   ],
   "source": [
    "l = [1, 2, 3]\n",
    "t = (1, 2, 3)\n",
    "s = 'python'\n",
    "\n",
    "l[0], t[1], s[2]"
   ]
  },
  {
   "cell_type": "code",
   "execution_count": 5,
   "metadata": {},
   "outputs": [
    {
     "name": "stdout",
     "output_type": "stream",
     "text": [
      "p\n",
      "y\n",
      "t\n",
      "h\n",
      "o\n",
      "n\n"
     ]
    }
   ],
   "source": [
    "# Looping through sequence\n",
    "for c in s:\n",
    "    print(c)"
   ]
  },
  {
   "cell_type": "code",
   "execution_count": 6,
   "metadata": {},
   "outputs": [
    {
     "name": "stdout",
     "output_type": "stream",
     "text": [
      "10\n",
      "20\n",
      "30\n"
     ]
    }
   ],
   "source": [
    "# Looping through set\n",
    "s = {10, 20, 30}\n",
    "for e in s:\n",
    "    print(e)"
   ]
  },
  {
   "cell_type": "code",
   "execution_count": 7,
   "metadata": {},
   "outputs": [
    {
     "name": "stdout",
     "output_type": "stream",
     "text": [
      "x\n",
      "10\n",
      "A\n",
      "a\n"
     ]
    }
   ],
   "source": [
    "# Unordered\n",
    "s = {'x', 10, 'a', 'A'}\n",
    "for e in s:\n",
    "    print(e)"
   ]
  },
  {
   "cell_type": "code",
   "execution_count": 11,
   "metadata": {},
   "outputs": [
    {
     "data": {
      "text/plain": [
       "[100, 2, 3]"
      ]
     },
     "execution_count": 11,
     "metadata": {},
     "output_type": "execute_result"
    }
   ],
   "source": [
    "l = [1, 2, 3]\n",
    "t = (1, 2, 3)\n",
    "# Change value of an element for list\n",
    "l[0] = 100\n",
    "l"
   ]
  },
  {
   "cell_type": "code",
   "execution_count": 12,
   "metadata": {},
   "outputs": [
    {
     "ename": "TypeError",
     "evalue": "'tuple' object does not support item assignment",
     "output_type": "error",
     "traceback": [
      "\u001b[1;31m---------------------------------------------------------------------------\u001b[0m",
      "\u001b[1;31mTypeError\u001b[0m                                 Traceback (most recent call last)",
      "Cell \u001b[1;32mIn[12], line 2\u001b[0m\n\u001b[0;32m      1\u001b[0m \u001b[38;5;66;03m# Try to change tuple value\u001b[39;00m\n\u001b[1;32m----> 2\u001b[0m \u001b[43mt\u001b[49m\u001b[43m[\u001b[49m\u001b[38;5;241;43m0\u001b[39;49m\u001b[43m]\u001b[49m \u001b[38;5;241m=\u001b[39m \u001b[38;5;241m100\u001b[39m\n",
      "\u001b[1;31mTypeError\u001b[0m: 'tuple' object does not support item assignment"
     ]
    }
   ],
   "source": [
    "# Try to change tuple value\n",
    "t[0] = 100"
   ]
  },
  {
   "cell_type": "code",
   "execution_count": 13,
   "metadata": {},
   "outputs": [
    {
     "data": {
      "text/plain": [
       "([100, 2], 3, 4)"
      ]
     },
     "execution_count": 13,
     "metadata": {},
     "output_type": "execute_result"
    }
   ],
   "source": [
    "t = ([1, 2], 3, 4)\n",
    "t[0][0] = 100\n",
    "t"
   ]
  },
  {
   "cell_type": "code",
   "execution_count": 14,
   "metadata": {},
   "outputs": [
    {
     "data": {
      "text/plain": [
       "True"
      ]
     },
     "execution_count": 14,
     "metadata": {},
     "output_type": "execute_result"
    }
   ],
   "source": [
    "'a' in ['a', 'b', 100]"
   ]
  },
  {
   "cell_type": "code",
   "execution_count": 15,
   "metadata": {},
   "outputs": [
    {
     "data": {
      "text/plain": [
       "True"
      ]
     },
     "execution_count": 15,
     "metadata": {},
     "output_type": "execute_result"
    }
   ],
   "source": [
    "100 in range(200)"
   ]
  },
  {
   "cell_type": "code",
   "execution_count": 16,
   "metadata": {},
   "outputs": [
    {
     "data": {
      "text/plain": [
       "(6, 3, 3, 2)"
      ]
     },
     "execution_count": 16,
     "metadata": {},
     "output_type": "execute_result"
    }
   ],
   "source": [
    "len('python'), len([1, 2, 3]), len({10, 20, 30}), len({'a': 1, 'b': 2})"
   ]
  },
  {
   "cell_type": "code",
   "execution_count": 17,
   "metadata": {},
   "outputs": [
    {
     "data": {
      "text/plain": [
       "100"
      ]
     },
     "execution_count": 17,
     "metadata": {},
     "output_type": "execute_result"
    }
   ],
   "source": [
    "l = [100, 200, 300]\n",
    "min(l) # A Comparison operator is supported between instances of int"
   ]
  },
  {
   "cell_type": "code",
   "execution_count": 19,
   "metadata": {},
   "outputs": [
    {
     "data": {
      "text/plain": [
       "'a'"
      ]
     },
     "execution_count": 19,
     "metadata": {},
     "output_type": "execute_result"
    }
   ],
   "source": [
    "l = ['a', 'b', 'c']\n",
    "min(l)"
   ]
  },
  {
   "cell_type": "code",
   "execution_count": 18,
   "metadata": {},
   "outputs": [
    {
     "ename": "TypeError",
     "evalue": "'<' not supported between instances of 'complex' and 'complex'",
     "output_type": "error",
     "traceback": [
      "\u001b[1;31m---------------------------------------------------------------------------\u001b[0m",
      "\u001b[1;31mTypeError\u001b[0m                                 Traceback (most recent call last)",
      "Cell \u001b[1;32mIn[18], line 2\u001b[0m\n\u001b[0;32m      1\u001b[0m l \u001b[38;5;241m=\u001b[39m [\u001b[38;5;241m2\u001b[39m\u001b[38;5;241m+\u001b[39m\u001b[38;5;241m2\u001b[39mj, \u001b[38;5;241m10\u001b[39m\u001b[38;5;241m+\u001b[39m\u001b[38;5;241m10\u001b[39mj, \u001b[38;5;241m100\u001b[39m\u001b[38;5;241m+\u001b[39m\u001b[38;5;241m100\u001b[39mj]\n\u001b[1;32m----> 2\u001b[0m \u001b[38;5;28;43mmin\u001b[39;49m\u001b[43m(\u001b[49m\u001b[43ml\u001b[49m\u001b[43m)\u001b[49m\n",
      "\u001b[1;31mTypeError\u001b[0m: '<' not supported between instances of 'complex' and 'complex'"
     ]
    }
   ],
   "source": [
    "l = [2+2j, 10+10j, 100+100j]\n",
    "min(l) # Comparison operator are not supported betweeen instances of 'complex' numbers."
   ]
  },
  {
   "cell_type": "code",
   "execution_count": 20,
   "metadata": {},
   "outputs": [
    {
     "ename": "TypeError",
     "evalue": "'<' not supported between instances of 'int' and 'str'",
     "output_type": "error",
     "traceback": [
      "\u001b[1;31m---------------------------------------------------------------------------\u001b[0m",
      "\u001b[1;31mTypeError\u001b[0m                                 Traceback (most recent call last)",
      "Cell \u001b[1;32mIn[20], line 2\u001b[0m\n\u001b[0;32m      1\u001b[0m l \u001b[38;5;241m=\u001b[39m [\u001b[38;5;124m'\u001b[39m\u001b[38;5;124ma\u001b[39m\u001b[38;5;124m'\u001b[39m, \u001b[38;5;241m10\u001b[39m, \u001b[38;5;241m100\u001b[39m]\n\u001b[1;32m----> 2\u001b[0m \u001b[38;5;28;43mmin\u001b[39;49m\u001b[43m(\u001b[49m\u001b[43ml\u001b[49m\u001b[43m)\u001b[49m\n",
      "\u001b[1;31mTypeError\u001b[0m: '<' not supported between instances of 'int' and 'str'"
     ]
    }
   ],
   "source": [
    "l = ['a', 10, 100]\n",
    "min(l)"
   ]
  },
  {
   "cell_type": "code",
   "execution_count": 21,
   "metadata": {},
   "outputs": [
    {
     "data": {
      "text/plain": [
       "10"
      ]
     },
     "execution_count": 21,
     "metadata": {},
     "output_type": "execute_result"
    }
   ],
   "source": [
    "from decimal import Decimal\n",
    "\n",
    "l = [10, 10.5, Decimal('20.3')]\n",
    "min(l)"
   ]
  },
  {
   "cell_type": "markdown",
   "metadata": {},
   "source": [
    "### Beware of concatenation"
   ]
  },
  {
   "cell_type": "code",
   "execution_count": 22,
   "metadata": {},
   "outputs": [
    {
     "data": {
      "text/plain": [
       "[1, 2, 3, 4, 5, 6]"
      ]
     },
     "execution_count": 22,
     "metadata": {},
     "output_type": "execute_result"
    }
   ],
   "source": [
    "# Concatenation\n",
    "# Allowed\n",
    "[1, 2, 3] + [4, 5, 6]"
   ]
  },
  {
   "cell_type": "code",
   "execution_count": 23,
   "metadata": {},
   "outputs": [
    {
     "ename": "TypeError",
     "evalue": "can only concatenate list (not \"tuple\") to list",
     "output_type": "error",
     "traceback": [
      "\u001b[1;31m---------------------------------------------------------------------------\u001b[0m",
      "\u001b[1;31mTypeError\u001b[0m                                 Traceback (most recent call last)",
      "Cell \u001b[1;32mIn[23], line 2\u001b[0m\n\u001b[0;32m      1\u001b[0m \u001b[38;5;66;03m# Not Allowed\u001b[39;00m\n\u001b[1;32m----> 2\u001b[0m \u001b[43m[\u001b[49m\u001b[38;5;241;43m1\u001b[39;49m\u001b[43m,\u001b[49m\u001b[43m \u001b[49m\u001b[38;5;241;43m2\u001b[39;49m\u001b[43m,\u001b[49m\u001b[43m \u001b[49m\u001b[38;5;241;43m3\u001b[39;49m\u001b[43m]\u001b[49m\u001b[43m \u001b[49m\u001b[38;5;241;43m+\u001b[39;49m\u001b[43m \u001b[49m\u001b[43m(\u001b[49m\u001b[38;5;241;43m4\u001b[39;49m\u001b[43m,\u001b[49m\u001b[43m \u001b[49m\u001b[38;5;241;43m5\u001b[39;49m\u001b[43m,\u001b[49m\u001b[43m \u001b[49m\u001b[38;5;241;43m6\u001b[39;49m\u001b[43m)\u001b[49m\n",
      "\u001b[1;31mTypeError\u001b[0m: can only concatenate list (not \"tuple\") to list"
     ]
    }
   ],
   "source": [
    "# Not Allowed\n",
    "[1, 2, 3] + (4, 5, 6)"
   ]
  },
  {
   "cell_type": "code",
   "execution_count": 24,
   "metadata": {},
   "outputs": [
    {
     "ename": "TypeError",
     "evalue": "can only concatenate str (not \"list\") to str",
     "output_type": "error",
     "traceback": [
      "\u001b[1;31m---------------------------------------------------------------------------\u001b[0m",
      "\u001b[1;31mTypeError\u001b[0m                                 Traceback (most recent call last)",
      "Cell \u001b[1;32mIn[24], line 2\u001b[0m\n\u001b[0;32m      1\u001b[0m \u001b[38;5;66;03m# Not allowed\u001b[39;00m\n\u001b[1;32m----> 2\u001b[0m \u001b[38;5;124;43m'\u001b[39;49m\u001b[38;5;124;43mabc\u001b[39;49m\u001b[38;5;124;43m'\u001b[39;49m\u001b[43m \u001b[49m\u001b[38;5;241;43m+\u001b[39;49m\u001b[43m \u001b[49m\u001b[43m[\u001b[49m\u001b[38;5;124;43m'\u001b[39;49m\u001b[38;5;124;43md\u001b[39;49m\u001b[38;5;124;43m'\u001b[39;49m\u001b[43m,\u001b[49m\u001b[43m \u001b[49m\u001b[38;5;124;43m'\u001b[39;49m\u001b[38;5;124;43me\u001b[39;49m\u001b[38;5;124;43m'\u001b[39;49m\u001b[43m,\u001b[49m\u001b[43m \u001b[49m\u001b[38;5;124;43m'\u001b[39;49m\u001b[38;5;124;43mf\u001b[39;49m\u001b[38;5;124;43m'\u001b[39;49m\u001b[43m]\u001b[49m\n",
      "\u001b[1;31mTypeError\u001b[0m: can only concatenate str (not \"list\") to str"
     ]
    }
   ],
   "source": [
    "# Not allowed\n",
    "'abc' + ['d', 'e', 'f']"
   ]
  },
  {
   "cell_type": "code",
   "execution_count": 25,
   "metadata": {},
   "outputs": [
    {
     "data": {
      "text/plain": [
       "['a', 'b', 'c', 'd', 'e', 'f']"
      ]
     },
     "execution_count": 25,
     "metadata": {},
     "output_type": "execute_result"
    }
   ],
   "source": [
    "# Allowed\n",
    "list('abc') + ['d', 'e', 'f']"
   ]
  },
  {
   "cell_type": "code",
   "execution_count": 26,
   "metadata": {},
   "outputs": [
    {
     "data": {
      "text/plain": [
       "'1***2***3'"
      ]
     },
     "execution_count": 26,
     "metadata": {},
     "output_type": "execute_result"
    }
   ],
   "source": [
    "'***'.join(['1', '2', '3'])"
   ]
  },
  {
   "cell_type": "code",
   "execution_count": 8,
   "metadata": {},
   "outputs": [
    {
     "data": {
      "text/plain": [
       "[[0, 0], [0, 0]]"
      ]
     },
     "execution_count": 8,
     "metadata": {},
     "output_type": "execute_result"
    }
   ],
   "source": [
    "x = [[0, 0]]\n",
    "a = x + x\n",
    "a"
   ]
  },
  {
   "cell_type": "code",
   "execution_count": 9,
   "metadata": {},
   "outputs": [
    {
     "data": {
      "text/plain": [
       "(2091459411456, 2091459411456)"
      ]
     },
     "execution_count": 9,
     "metadata": {},
     "output_type": "execute_result"
    }
   ],
   "source": [
    "id(a[0]), id(a[1])"
   ]
  },
  {
   "cell_type": "code",
   "execution_count": 10,
   "metadata": {},
   "outputs": [
    {
     "data": {
      "text/plain": [
       "[[100, 0], [100, 0]]"
      ]
     },
     "execution_count": 10,
     "metadata": {},
     "output_type": "execute_result"
    }
   ],
   "source": [
    "a[0][0] = 100\n",
    "a"
   ]
  },
  {
   "cell_type": "code",
   "execution_count": 34,
   "metadata": {},
   "outputs": [],
   "source": [
    "s = 'python'\n",
    "l = [1, 2, 3, 4, 5, 6, 7, 8, 9, 10]"
   ]
  },
  {
   "cell_type": "code",
   "execution_count": 35,
   "metadata": {},
   "outputs": [
    {
     "data": {
      "text/plain": [
       "'yth'"
      ]
     },
     "execution_count": 35,
     "metadata": {},
     "output_type": "execute_result"
    }
   ],
   "source": [
    "s[1:4]"
   ]
  },
  {
   "cell_type": "code",
   "execution_count": 36,
   "metadata": {},
   "outputs": [
    {
     "data": {
      "text/plain": [
       "[1, 2, 3, 4, 5]"
      ]
     },
     "execution_count": 36,
     "metadata": {},
     "output_type": "execute_result"
    }
   ],
   "source": [
    "l[0:5]"
   ]
  },
  {
   "cell_type": "code",
   "execution_count": 37,
   "metadata": {},
   "outputs": [
    {
     "data": {
      "text/plain": [
       "'on'"
      ]
     },
     "execution_count": 37,
     "metadata": {},
     "output_type": "execute_result"
    }
   ],
   "source": [
    "# Slice indices that goes beyond\n",
    "s[4:10000]"
   ]
  },
  {
   "cell_type": "code",
   "execution_count": 38,
   "metadata": {},
   "outputs": [
    {
     "data": {
      "text/plain": [
       "'pyth'"
      ]
     },
     "execution_count": 38,
     "metadata": {},
     "output_type": "execute_result"
    }
   ],
   "source": [
    "s[:4]"
   ]
  },
  {
   "cell_type": "code",
   "execution_count": 39,
   "metadata": {},
   "outputs": [
    {
     "data": {
      "text/plain": [
       "'on'"
      ]
     },
     "execution_count": 39,
     "metadata": {},
     "output_type": "execute_result"
    }
   ],
   "source": [
    "s[4:]"
   ]
  },
  {
   "cell_type": "code",
   "execution_count": 40,
   "metadata": {},
   "outputs": [
    {
     "data": {
      "text/plain": [
       "'python'"
      ]
     },
     "execution_count": 40,
     "metadata": {},
     "output_type": "execute_result"
    }
   ],
   "source": [
    "s[:]"
   ]
  },
  {
   "cell_type": "code",
   "execution_count": 41,
   "metadata": {},
   "outputs": [
    {
     "data": {
      "text/plain": [
       "(2091459892864, 2091459264320)"
      ]
     },
     "execution_count": 41,
     "metadata": {},
     "output_type": "execute_result"
    }
   ],
   "source": [
    "# Slicing ALWAYS returns a new object\n",
    "l = [1, 2, 3]\n",
    "l2 = l[:]\n",
    "id(l), id(l2)"
   ]
  },
  {
   "cell_type": "code",
   "execution_count": 42,
   "metadata": {},
   "outputs": [
    {
     "data": {
      "text/plain": [
       "'nohtyp'"
      ]
     },
     "execution_count": 42,
     "metadata": {},
     "output_type": "execute_result"
    }
   ],
   "source": [
    "# Reverse a sequence\n",
    "s[::-1]"
   ]
  },
  {
   "cell_type": "markdown",
   "metadata": {},
   "source": [
    "## Caveats"
   ]
  },
  {
   "cell_type": "code",
   "execution_count": 43,
   "metadata": {},
   "outputs": [
    {
     "data": {
      "text/plain": [
       "False"
      ]
     },
     "execution_count": 43,
     "metadata": {},
     "output_type": "execute_result"
    }
   ],
   "source": [
    "a = Decimal('10.5')\n",
    "b = Decimal('10.5')\n",
    "a is b"
   ]
  },
  {
   "cell_type": "code",
   "execution_count": 44,
   "metadata": {},
   "outputs": [
    {
     "data": {
      "text/plain": [
       "(2091466381936, 2091466381488)"
      ]
     },
     "execution_count": 44,
     "metadata": {},
     "output_type": "execute_result"
    }
   ],
   "source": [
    "id(a), id(b)"
   ]
  },
  {
   "cell_type": "code",
   "execution_count": 45,
   "metadata": {},
   "outputs": [
    {
     "data": {
      "text/plain": [
       "True"
      ]
     },
     "execution_count": 45,
     "metadata": {},
     "output_type": "execute_result"
    }
   ],
   "source": [
    "a == b"
   ]
  },
  {
   "cell_type": "code",
   "execution_count": 46,
   "metadata": {},
   "outputs": [],
   "source": [
    "l = [Decimal('10.5')]"
   ]
  },
  {
   "cell_type": "code",
   "execution_count": 47,
   "metadata": {},
   "outputs": [
    {
     "data": {
      "text/plain": [
       "2091466376224"
      ]
     },
     "execution_count": 47,
     "metadata": {},
     "output_type": "execute_result"
    }
   ],
   "source": [
    "id(l[0])"
   ]
  },
  {
   "cell_type": "code",
   "execution_count": 48,
   "metadata": {},
   "outputs": [
    {
     "data": {
      "text/plain": [
       "[Decimal('10.5'), Decimal('10.5')]"
      ]
     },
     "execution_count": 48,
     "metadata": {},
     "output_type": "execute_result"
    }
   ],
   "source": [
    "l2 = l * 2\n",
    "l2"
   ]
  },
  {
   "cell_type": "code",
   "execution_count": 49,
   "metadata": {},
   "outputs": [
    {
     "data": {
      "text/plain": [
       "2091466376224"
      ]
     },
     "execution_count": 49,
     "metadata": {},
     "output_type": "execute_result"
    }
   ],
   "source": [
    "id(l2[0])"
   ]
  },
  {
   "cell_type": "code",
   "execution_count": 50,
   "metadata": {},
   "outputs": [
    {
     "data": {
      "text/plain": [
       "2091466376224"
      ]
     },
     "execution_count": 50,
     "metadata": {},
     "output_type": "execute_result"
    }
   ],
   "source": [
    "id(l2[1])"
   ]
  },
  {
   "cell_type": "markdown",
   "metadata": {},
   "source": [
    "## Mutable Sequence Types\n",
    "\n",
    "- Concatenation is not mutation. Concatenation changes the reference to another memory address.\n",
    "- Mutating an object means changing the object's `state` without creating a new object.The memory address must not change.\n",
    "- Some methods supported by mutable sequences types such as lists:\n",
    "    - s.clear() # Remove all items from s\n",
    "    - s.append(x) # appends x to the end of s\n",
    "    - s.insert(i, x) # inserts x at index i\n",
    "    - s.extend(iterable) # Appends contents pf iterable to the end of s\n",
    "    - s.pop(i) # Removes and returns element at index\n",
    "    - s.remove(x) # Removes the first occurrence of x in s\n",
    "    - s.reverse() # Does an in-place reversal of elements of s\n",
    "    - s.copy() # returns a shallow copy"
   ]
  },
  {
   "cell_type": "markdown",
   "metadata": {},
   "source": [
    "## List vs Tuples\n",
    "\n",
    "- Constant folding is the process of recognizing and evaluating constant expressions at compile time rather than computing them at runtime.\n",
    "- "
   ]
  },
  {
   "cell_type": "code",
   "execution_count": 51,
   "metadata": {},
   "outputs": [],
   "source": [
    "from dis import dis"
   ]
  },
  {
   "cell_type": "code",
   "execution_count": 52,
   "metadata": {},
   "outputs": [
    {
     "name": "stdout",
     "output_type": "stream",
     "text": [
      "  0           0 RESUME                   0\n",
      "\n",
      "  1           2 RETURN_CONST             0 ((1, 2, 3, 'a'))\n"
     ]
    }
   ],
   "source": [
    "dis(compile('(1, 2, 3, \"a\")', 'string', 'eval'))"
   ]
  },
  {
   "cell_type": "code",
   "execution_count": 53,
   "metadata": {},
   "outputs": [
    {
     "name": "stdout",
     "output_type": "stream",
     "text": [
      "  0           0 RESUME                   0\n",
      "\n",
      "  1           2 BUILD_LIST               0\n",
      "              4 LOAD_CONST               0 ((1, 2, 3, 'a'))\n",
      "              6 LIST_EXTEND              1\n",
      "              8 RETURN_VALUE\n"
     ]
    }
   ],
   "source": [
    "dis(compile('[1, 2, 3, \"a\"]', 'string', 'eval'))"
   ]
  },
  {
   "cell_type": "code",
   "execution_count": 54,
   "metadata": {},
   "outputs": [
    {
     "name": "stdout",
     "output_type": "stream",
     "text": [
      "  0           0 RESUME                   0\n",
      "\n",
      "  1           2 LOAD_CONST               0 (1)\n",
      "              4 LOAD_CONST               1 (2)\n",
      "              6 LOAD_CONST               2 (3)\n",
      "              8 LOAD_CONST               3 (10)\n",
      "             10 LOAD_CONST               4 (20)\n",
      "             12 BUILD_LIST               2\n",
      "             14 BUILD_TUPLE              4\n",
      "             16 RETURN_VALUE\n"
     ]
    }
   ],
   "source": [
    "dis(compile('(1, 2, 3, [10, 20])', 'string', 'eval'))"
   ]
  },
  {
   "cell_type": "code",
   "execution_count": 55,
   "metadata": {},
   "outputs": [],
   "source": [
    "from timeit import timeit"
   ]
  },
  {
   "cell_type": "code",
   "execution_count": 56,
   "metadata": {},
   "outputs": [
    {
     "data": {
      "text/plain": [
       "0.07194029999664053"
      ]
     },
     "execution_count": 56,
     "metadata": {},
     "output_type": "execute_result"
    }
   ],
   "source": [
    "timeit(\"(1, 2, 3, 4, 5, 6, 7, 8, 9)\", number=10_000_000)"
   ]
  },
  {
   "cell_type": "code",
   "execution_count": 57,
   "metadata": {},
   "outputs": [
    {
     "data": {
      "text/plain": [
       "0.3300423999899067"
      ]
     },
     "execution_count": 57,
     "metadata": {},
     "output_type": "execute_result"
    }
   ],
   "source": [
    "timeit(\"[1, 2, 3, 4, 5, 6, 7, 8, 9]\", number=10_000_000)"
   ]
  },
  {
   "cell_type": "code",
   "execution_count": 58,
   "metadata": {},
   "outputs": [],
   "source": [
    "def fn1():\n",
    "    pass"
   ]
  },
  {
   "cell_type": "code",
   "execution_count": 59,
   "metadata": {},
   "outputs": [
    {
     "name": "stdout",
     "output_type": "stream",
     "text": [
      "  0           0 RESUME                   0\n",
      "\n",
      "  1           2 LOAD_NAME                0 (fn1)\n",
      "              4 LOAD_CONST               0 (10)\n",
      "              6 LOAD_CONST               1 (20)\n",
      "              8 BUILD_TUPLE              3\n",
      "             10 RETURN_VALUE\n"
     ]
    }
   ],
   "source": [
    "dis(compile('(fn1, 10, 20)', 'string', 'eval'))"
   ]
  },
  {
   "cell_type": "code",
   "execution_count": 60,
   "metadata": {},
   "outputs": [
    {
     "data": {
      "text/plain": [
       "(2091465550400, 2091462847680)"
      ]
     },
     "execution_count": 60,
     "metadata": {},
     "output_type": "execute_result"
    }
   ],
   "source": [
    "l1 = [1, 2, 3, 4, 5, 6, 7, 8, 9]\n",
    "t1 = (1, 2, 3, 4, 5, 6, 7, 8, 9)\n",
    "\n",
    "id(l1), id(t1)"
   ]
  },
  {
   "cell_type": "code",
   "execution_count": 61,
   "metadata": {},
   "outputs": [
    {
     "data": {
      "text/plain": [
       "(2091465550400, 2091465822912)"
      ]
     },
     "execution_count": 61,
     "metadata": {},
     "output_type": "execute_result"
    }
   ],
   "source": [
    "l2 = list(l1)\n",
    "id(l1), id(l2)"
   ]
  },
  {
   "cell_type": "code",
   "execution_count": 62,
   "metadata": {},
   "outputs": [
    {
     "data": {
      "text/plain": [
       "(2091462847680, 2091462847680)"
      ]
     },
     "execution_count": 62,
     "metadata": {},
     "output_type": "execute_result"
    }
   ],
   "source": [
    "t2 = tuple(t1)\n",
    "id(t1), id(t2)"
   ]
  },
  {
   "cell_type": "markdown",
   "metadata": {},
   "source": [
    "### Storage Efficiency"
   ]
  },
  {
   "cell_type": "code",
   "execution_count": 64,
   "metadata": {},
   "outputs": [],
   "source": [
    "import sys"
   ]
  },
  {
   "cell_type": "code",
   "execution_count": 67,
   "metadata": {},
   "outputs": [
    {
     "name": "stdout",
     "output_type": "stream",
     "text": [
      "1 items: 48, delta=8\n",
      "2 items: 56, delta=8\n",
      "3 items: 64, delta=8\n",
      "4 items: 72, delta=8\n",
      "5 items: 80, delta=8\n",
      "6 items: 88, delta=8\n",
      "7 items: 96, delta=8\n",
      "8 items: 104, delta=8\n",
      "9 items: 112, delta=8\n",
      "10 items: 120, delta=8\n"
     ]
    }
   ],
   "source": [
    "t = tuple()\n",
    "prev = sys.getsizeof(t)\n",
    "for i in range(10):\n",
    "    c = tuple(range(i+1))\n",
    "    size_c = sys.getsizeof(c)\n",
    "    delta, prev = size_c - prev, size_c\n",
    "    print(f'{i+1} items: {size_c}, delta={delta}')"
   ]
  },
  {
   "cell_type": "code",
   "execution_count": 69,
   "metadata": {},
   "outputs": [
    {
     "name": "stdout",
     "output_type": "stream",
     "text": [
      "1 items: 72, delta=16\n",
      "2 items: 72, delta=0\n",
      "3 items: 88, delta=16\n",
      "4 items: 88, delta=0\n",
      "5 items: 104, delta=16\n",
      "6 items: 104, delta=0\n",
      "7 items: 120, delta=16\n",
      "8 items: 120, delta=0\n",
      "9 items: 136, delta=16\n",
      "10 items: 136, delta=0\n"
     ]
    }
   ],
   "source": [
    "l = list()\n",
    "prev = sys.getsizeof(l)\n",
    "for i in range(10):\n",
    "    l = list(range(i+1))\n",
    "    size_l = sys.getsizeof(l)\n",
    "    delta, prev = size_l - prev, size_l\n",
    "    print(f'{i+1} items: {size_l}, delta={delta}')"
   ]
  },
  {
   "cell_type": "code",
   "execution_count": 70,
   "metadata": {},
   "outputs": [
    {
     "name": "stdout",
     "output_type": "stream",
     "text": [
      "0 items: 56\n",
      "1 items: 88, delta=32\n",
      "2 items: 88, delta=0\n",
      "3 items: 88, delta=0\n",
      "4 items: 88, delta=0\n",
      "5 items: 120, delta=32\n",
      "6 items: 120, delta=0\n",
      "7 items: 120, delta=0\n",
      "8 items: 120, delta=0\n",
      "9 items: 184, delta=64\n",
      "10 items: 184, delta=0\n",
      "11 items: 184, delta=0\n",
      "12 items: 184, delta=0\n",
      "13 items: 184, delta=0\n",
      "14 items: 184, delta=0\n",
      "15 items: 184, delta=0\n",
      "16 items: 184, delta=0\n",
      "17 items: 248, delta=64\n",
      "18 items: 248, delta=0\n",
      "19 items: 248, delta=0\n",
      "20 items: 248, delta=0\n",
      "21 items: 248, delta=0\n",
      "22 items: 248, delta=0\n",
      "23 items: 248, delta=0\n",
      "24 items: 248, delta=0\n",
      "25 items: 312, delta=64\n",
      "26 items: 312, delta=0\n",
      "27 items: 312, delta=0\n",
      "28 items: 312, delta=0\n",
      "29 items: 312, delta=0\n",
      "30 items: 312, delta=0\n",
      "31 items: 312, delta=0\n",
      "32 items: 312, delta=0\n",
      "33 items: 376, delta=64\n",
      "34 items: 376, delta=0\n",
      "35 items: 376, delta=0\n",
      "36 items: 376, delta=0\n",
      "37 items: 376, delta=0\n",
      "38 items: 376, delta=0\n",
      "39 items: 376, delta=0\n",
      "40 items: 376, delta=0\n",
      "41 items: 472, delta=96\n",
      "42 items: 472, delta=0\n",
      "43 items: 472, delta=0\n",
      "44 items: 472, delta=0\n",
      "45 items: 472, delta=0\n",
      "46 items: 472, delta=0\n",
      "47 items: 472, delta=0\n",
      "48 items: 472, delta=0\n",
      "49 items: 472, delta=0\n",
      "50 items: 472, delta=0\n",
      "51 items: 472, delta=0\n",
      "52 items: 472, delta=0\n",
      "53 items: 568, delta=96\n",
      "54 items: 568, delta=0\n",
      "55 items: 568, delta=0\n",
      "56 items: 568, delta=0\n",
      "57 items: 568, delta=0\n",
      "58 items: 568, delta=0\n",
      "59 items: 568, delta=0\n",
      "60 items: 568, delta=0\n",
      "61 items: 568, delta=0\n",
      "62 items: 568, delta=0\n",
      "63 items: 568, delta=0\n",
      "64 items: 568, delta=0\n",
      "65 items: 664, delta=96\n",
      "66 items: 664, delta=0\n",
      "67 items: 664, delta=0\n",
      "68 items: 664, delta=0\n",
      "69 items: 664, delta=0\n",
      "70 items: 664, delta=0\n",
      "71 items: 664, delta=0\n",
      "72 items: 664, delta=0\n",
      "73 items: 664, delta=0\n",
      "74 items: 664, delta=0\n",
      "75 items: 664, delta=0\n",
      "76 items: 664, delta=0\n",
      "77 items: 792, delta=128\n",
      "78 items: 792, delta=0\n",
      "79 items: 792, delta=0\n",
      "80 items: 792, delta=0\n",
      "81 items: 792, delta=0\n",
      "82 items: 792, delta=0\n",
      "83 items: 792, delta=0\n",
      "84 items: 792, delta=0\n",
      "85 items: 792, delta=0\n",
      "86 items: 792, delta=0\n",
      "87 items: 792, delta=0\n",
      "88 items: 792, delta=0\n",
      "89 items: 792, delta=0\n",
      "90 items: 792, delta=0\n",
      "91 items: 792, delta=0\n",
      "92 items: 792, delta=0\n",
      "93 items: 920, delta=128\n",
      "94 items: 920, delta=0\n",
      "95 items: 920, delta=0\n",
      "96 items: 920, delta=0\n",
      "97 items: 920, delta=0\n",
      "98 items: 920, delta=0\n",
      "99 items: 920, delta=0\n",
      "100 items: 920, delta=0\n",
      "101 items: 920, delta=0\n",
      "102 items: 920, delta=0\n",
      "103 items: 920, delta=0\n",
      "104 items: 920, delta=0\n",
      "105 items: 920, delta=0\n",
      "106 items: 920, delta=0\n",
      "107 items: 920, delta=0\n",
      "108 items: 920, delta=0\n",
      "109 items: 1080, delta=160\n",
      "110 items: 1080, delta=0\n",
      "111 items: 1080, delta=0\n",
      "112 items: 1080, delta=0\n",
      "113 items: 1080, delta=0\n",
      "114 items: 1080, delta=0\n",
      "115 items: 1080, delta=0\n",
      "116 items: 1080, delta=0\n",
      "117 items: 1080, delta=0\n",
      "118 items: 1080, delta=0\n",
      "119 items: 1080, delta=0\n",
      "120 items: 1080, delta=0\n",
      "121 items: 1080, delta=0\n",
      "122 items: 1080, delta=0\n",
      "123 items: 1080, delta=0\n",
      "124 items: 1080, delta=0\n",
      "125 items: 1080, delta=0\n",
      "126 items: 1080, delta=0\n",
      "127 items: 1080, delta=0\n",
      "128 items: 1080, delta=0\n",
      "129 items: 1240, delta=160\n",
      "130 items: 1240, delta=0\n",
      "131 items: 1240, delta=0\n",
      "132 items: 1240, delta=0\n",
      "133 items: 1240, delta=0\n",
      "134 items: 1240, delta=0\n",
      "135 items: 1240, delta=0\n",
      "136 items: 1240, delta=0\n",
      "137 items: 1240, delta=0\n",
      "138 items: 1240, delta=0\n",
      "139 items: 1240, delta=0\n",
      "140 items: 1240, delta=0\n",
      "141 items: 1240, delta=0\n",
      "142 items: 1240, delta=0\n",
      "143 items: 1240, delta=0\n",
      "144 items: 1240, delta=0\n",
      "145 items: 1240, delta=0\n",
      "146 items: 1240, delta=0\n",
      "147 items: 1240, delta=0\n",
      "148 items: 1240, delta=0\n",
      "149 items: 1432, delta=192\n",
      "150 items: 1432, delta=0\n",
      "151 items: 1432, delta=0\n",
      "152 items: 1432, delta=0\n",
      "153 items: 1432, delta=0\n",
      "154 items: 1432, delta=0\n",
      "155 items: 1432, delta=0\n",
      "156 items: 1432, delta=0\n",
      "157 items: 1432, delta=0\n",
      "158 items: 1432, delta=0\n",
      "159 items: 1432, delta=0\n",
      "160 items: 1432, delta=0\n",
      "161 items: 1432, delta=0\n",
      "162 items: 1432, delta=0\n",
      "163 items: 1432, delta=0\n",
      "164 items: 1432, delta=0\n",
      "165 items: 1432, delta=0\n",
      "166 items: 1432, delta=0\n",
      "167 items: 1432, delta=0\n",
      "168 items: 1432, delta=0\n",
      "169 items: 1432, delta=0\n",
      "170 items: 1432, delta=0\n",
      "171 items: 1432, delta=0\n",
      "172 items: 1432, delta=0\n",
      "173 items: 1656, delta=224\n",
      "174 items: 1656, delta=0\n",
      "175 items: 1656, delta=0\n",
      "176 items: 1656, delta=0\n",
      "177 items: 1656, delta=0\n",
      "178 items: 1656, delta=0\n",
      "179 items: 1656, delta=0\n",
      "180 items: 1656, delta=0\n",
      "181 items: 1656, delta=0\n",
      "182 items: 1656, delta=0\n",
      "183 items: 1656, delta=0\n",
      "184 items: 1656, delta=0\n",
      "185 items: 1656, delta=0\n",
      "186 items: 1656, delta=0\n",
      "187 items: 1656, delta=0\n",
      "188 items: 1656, delta=0\n",
      "189 items: 1656, delta=0\n",
      "190 items: 1656, delta=0\n",
      "191 items: 1656, delta=0\n",
      "192 items: 1656, delta=0\n",
      "193 items: 1656, delta=0\n",
      "194 items: 1656, delta=0\n",
      "195 items: 1656, delta=0\n",
      "196 items: 1656, delta=0\n",
      "197 items: 1656, delta=0\n",
      "198 items: 1656, delta=0\n",
      "199 items: 1656, delta=0\n",
      "200 items: 1656, delta=0\n",
      "201 items: 1912, delta=256\n",
      "202 items: 1912, delta=0\n",
      "203 items: 1912, delta=0\n",
      "204 items: 1912, delta=0\n",
      "205 items: 1912, delta=0\n",
      "206 items: 1912, delta=0\n",
      "207 items: 1912, delta=0\n",
      "208 items: 1912, delta=0\n",
      "209 items: 1912, delta=0\n",
      "210 items: 1912, delta=0\n",
      "211 items: 1912, delta=0\n",
      "212 items: 1912, delta=0\n",
      "213 items: 1912, delta=0\n",
      "214 items: 1912, delta=0\n",
      "215 items: 1912, delta=0\n",
      "216 items: 1912, delta=0\n",
      "217 items: 1912, delta=0\n",
      "218 items: 1912, delta=0\n",
      "219 items: 1912, delta=0\n",
      "220 items: 1912, delta=0\n",
      "221 items: 1912, delta=0\n",
      "222 items: 1912, delta=0\n",
      "223 items: 1912, delta=0\n",
      "224 items: 1912, delta=0\n",
      "225 items: 1912, delta=0\n",
      "226 items: 1912, delta=0\n",
      "227 items: 1912, delta=0\n",
      "228 items: 1912, delta=0\n",
      "229 items: 1912, delta=0\n",
      "230 items: 1912, delta=0\n",
      "231 items: 1912, delta=0\n",
      "232 items: 1912, delta=0\n",
      "233 items: 2200, delta=288\n",
      "234 items: 2200, delta=0\n",
      "235 items: 2200, delta=0\n",
      "236 items: 2200, delta=0\n",
      "237 items: 2200, delta=0\n",
      "238 items: 2200, delta=0\n",
      "239 items: 2200, delta=0\n",
      "240 items: 2200, delta=0\n",
      "241 items: 2200, delta=0\n",
      "242 items: 2200, delta=0\n",
      "243 items: 2200, delta=0\n",
      "244 items: 2200, delta=0\n",
      "245 items: 2200, delta=0\n",
      "246 items: 2200, delta=0\n",
      "247 items: 2200, delta=0\n",
      "248 items: 2200, delta=0\n",
      "249 items: 2200, delta=0\n",
      "250 items: 2200, delta=0\n",
      "251 items: 2200, delta=0\n",
      "252 items: 2200, delta=0\n",
      "253 items: 2200, delta=0\n",
      "254 items: 2200, delta=0\n",
      "255 items: 2200, delta=0\n"
     ]
    }
   ],
   "source": [
    "c = list()\n",
    "prev = sys.getsizeof(c)\n",
    "print(f\"0 items: {prev}\")\n",
    "for i in range(255):\n",
    "    c.append(i)\n",
    "    size_c = sys.getsizeof(c)\n",
    "    delta, prev = size_c - prev, size_c\n",
    "    print(f'{i+1} items: {size_c}, delta={delta}')"
   ]
  },
  {
   "cell_type": "code",
   "execution_count": 76,
   "metadata": {},
   "outputs": [],
   "source": [
    "t = tuple(range(1_000_000))\n",
    "l = list(t)"
   ]
  },
  {
   "cell_type": "code",
   "execution_count": 77,
   "metadata": {},
   "outputs": [
    {
     "data": {
      "text/plain": [
       "0.1327315000235103"
      ]
     },
     "execution_count": 77,
     "metadata": {},
     "output_type": "execute_result"
    }
   ],
   "source": [
    "timeit('t[99_999]', globals=globals(), number=10_000_000)"
   ]
  },
  {
   "cell_type": "code",
   "execution_count": 78,
   "metadata": {},
   "outputs": [
    {
     "data": {
      "text/plain": [
       "0.14513420005096123"
      ]
     },
     "execution_count": 78,
     "metadata": {},
     "output_type": "execute_result"
    }
   ],
   "source": [
    "timeit('l[99_999]', globals=globals(), number=10_000_000)"
   ]
  },
  {
   "cell_type": "markdown",
   "metadata": {},
   "source": [
    "## Copying Sequences\n",
    "\n",
    "- Mutable sequences can be modified. Sometimes, we want to make sure that whatever sequences we are working with cannot be modified, either inadvertently by us or by third party functions.\n",
    "```\n",
    "s = [10, 20, 30]\n",
    "\n",
    "def _reverse(s):\n",
    "    s.reverse()\n",
    "    return s\n",
    "\n",
    "new_list = _reverse(s)\n",
    "new_list, s\n",
    "\n",
    "([30, 20, 10], [30, 20, 10])\n",
    "```\n",
    "\n",
    "- Copy Sequence methods\n",
    "    - Simple Loop\n",
    "    - List Comprehension\n",
    "    - The `copy` method # Not implemented in immutable types such as tuples or strings\n",
    "    - Slicing\n",
    "\n",
    "- Copying mutable sequence creates a new memory object, copying immutable sequence doesn't create a new memory object.\n",
    "- Shallow copy creates a new sequence but uses same memory reference of the objects present in old sequence in new sequence.\n",
    "- Basically, in Shallow copy, the sequence gets copied but it's elements do not.\n",
    "- Deep Copies: \n",
    "    - If collections contain mutable elements, shallow copies are not sufficient to ensure the copy can never be used to modify the origina;. Instead we need to use `deep` copy.\n",
    "- The `copy` function will create shallow copy. The `deepcopy` will create a deep copy, handling nested objects, and circular references properly.\n",
    "- Custom classes can implement the `__copy__` and `__deepcopy__` methods to allow override how shallow and deep copies are made for custom objects.\n"
   ]
  },
  {
   "cell_type": "code",
   "execution_count": 82,
   "metadata": {},
   "outputs": [],
   "source": [
    "s = [[10, 20], [30, 40]]\n",
    "cp = s.copy()\n",
    "cp[0] = 'python'"
   ]
  },
  {
   "cell_type": "code",
   "execution_count": 83,
   "metadata": {},
   "outputs": [
    {
     "data": {
      "text/plain": [
       "(['python', [30, 40]], [[10, 20], [30, 40]])"
      ]
     },
     "execution_count": 83,
     "metadata": {},
     "output_type": "execute_result"
    }
   ],
   "source": [
    "cp, s"
   ]
  },
  {
   "cell_type": "code",
   "execution_count": 84,
   "metadata": {},
   "outputs": [
    {
     "data": {
      "text/plain": [
       "(['python', [100, 40]], [[10, 20], [100, 40]])"
      ]
     },
     "execution_count": 84,
     "metadata": {},
     "output_type": "execute_result"
    }
   ],
   "source": [
    "cp[1][0] = 100\n",
    "cp, s # s has also changed"
   ]
  },
  {
   "cell_type": "code",
   "execution_count": 85,
   "metadata": {},
   "outputs": [
    {
     "data": {
      "text/plain": [
       "([[0, 0], [100, 0]], [[0, 0], [0, 0]])"
      ]
     },
     "execution_count": 85,
     "metadata": {},
     "output_type": "execute_result"
    }
   ],
   "source": [
    "# Partial Deep Copy\n",
    "s = [[0, 0], [0, 0]]\n",
    "cp = [e.copy() for e in s]\n",
    "\n",
    "cp[1][0] = 100\n",
    "cp, s"
   ]
  },
  {
   "cell_type": "code",
   "execution_count": 88,
   "metadata": {},
   "outputs": [
    {
     "data": {
      "text/plain": [
       "True"
      ]
     },
     "execution_count": 88,
     "metadata": {},
     "output_type": "execute_result"
    }
   ],
   "source": [
    "# Custom class\n",
    "class MyClass:\n",
    "    def __init__(self, a):\n",
    "        self.a = a\n",
    "\n",
    "x = [10, 20]\n",
    "obj = MyClass(x)\n",
    "x is obj.a"
   ]
  },
  {
   "cell_type": "code",
   "execution_count": 89,
   "metadata": {},
   "outputs": [],
   "source": [
    "from copy import copy, deepcopy"
   ]
  },
  {
   "cell_type": "code",
   "execution_count": 90,
   "metadata": {},
   "outputs": [
    {
     "data": {
      "text/plain": [
       "True"
      ]
     },
     "execution_count": 90,
     "metadata": {},
     "output_type": "execute_result"
    }
   ],
   "source": [
    "cp_shallow = copy(obj)\n",
    "cp_shallow.a is obj.a"
   ]
  },
  {
   "cell_type": "code",
   "execution_count": 91,
   "metadata": {},
   "outputs": [
    {
     "data": {
      "text/plain": [
       "False"
      ]
     },
     "execution_count": 91,
     "metadata": {},
     "output_type": "execute_result"
    }
   ],
   "source": [
    "cp_deep = deepcopy(obj)\n",
    "cp_deep.a is obj.a"
   ]
  },
  {
   "cell_type": "code",
   "execution_count": null,
   "metadata": {},
   "outputs": [],
   "source": []
  }
 ],
 "metadata": {
  "kernelspec": {
   "display_name": "Python 3",
   "language": "python",
   "name": "python3"
  },
  "language_info": {
   "codemirror_mode": {
    "name": "ipython",
    "version": 3
   },
   "file_extension": ".py",
   "mimetype": "text/x-python",
   "name": "python",
   "nbconvert_exporter": "python",
   "pygments_lexer": "ipython3",
   "version": "3.12.1"
  }
 },
 "nbformat": 4,
 "nbformat_minor": 2
}
