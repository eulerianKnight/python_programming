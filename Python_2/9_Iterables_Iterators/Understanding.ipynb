{
 "cells": [
  {
   "cell_type": "markdown",
   "metadata": {},
   "source": [
    "# Iterables and Iterators\n",
    "\n",
    "- Iterations can be more general than based on `Sequential Indexing` as discussed in `Sequence Types`.\n",
    "- Sometimes, we need a bucket of items (`collections`, `container`) to just get `next` item. Here no concept of ordering is needed.\n",
    "- `Sets` are `unordered` collection of items. `Sets` are not indexable. But Sets are `iterable`.\n",
    "- For a general iteration, all we need is the concept of *get the next item* in the collection.\n",
    "- If a collection object implements a `get_next_item` method, we can get element out of the collection, one after the other.\n",
    "- When all the elements of the collection have been returned by calling `get_next_item()`, we can use `StopIteration`."
   ]
  },
  {
   "cell_type": "code",
   "execution_count": 10,
   "metadata": {},
   "outputs": [],
   "source": [
    "# Buid an iterable\n",
    "# Collection of squares of integers\n",
    "class Squares:\n",
    "    def __init__(self, length):\n",
    "        self.i = 0\n",
    "        self.length = length\n",
    "\n",
    "    def __next__(self):\n",
    "        if self.i >= self.length:\n",
    "            raise StopIteration\n",
    "        else:\n",
    "            result = self.i ** 2\n",
    "            self.i += 1\n",
    "            return result"
   ]
  },
  {
   "cell_type": "code",
   "execution_count": 12,
   "metadata": {},
   "outputs": [
    {
     "name": "stdout",
     "output_type": "stream",
     "text": [
      "0\n",
      "1\n",
      "4\n",
      "9\n",
      "16\n"
     ]
    }
   ],
   "source": [
    "# Create an instance of Squares\n",
    "sq = Squares(5)\n",
    "\n",
    "while True:\n",
    "    try:\n",
    "        item = next(sq)\n",
    "        print(item)\n",
    "    except StopIteration:\n",
    "        break"
   ]
  },
  {
   "cell_type": "code",
   "execution_count": null,
   "metadata": {},
   "outputs": [],
   "source": [
    "# Build a Random Number iterable\n",
    "class RandomNumbers:\n",
    "    def __init__(self, length, *, )"
   ]
  }
 ],
 "metadata": {
  "kernelspec": {
   "display_name": "Python 3",
   "language": "python",
   "name": "python3"
  },
  "language_info": {
   "codemirror_mode": {
    "name": "ipython",
    "version": 3
   },
   "file_extension": ".py",
   "mimetype": "text/x-python",
   "name": "python",
   "nbconvert_exporter": "python",
   "pygments_lexer": "ipython3",
   "version": "3.12.1"
  }
 },
 "nbformat": 4,
 "nbformat_minor": 2
}
